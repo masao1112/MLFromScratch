{
  "nbformat": 4,
  "nbformat_minor": 0,
  "metadata": {
    "colab": {
      "provenance": [],
      "authorship_tag": "ABX9TyPbOvRzc3pQr5apAbzYYCHz",
      "include_colab_link": true
    },
    "kernelspec": {
      "name": "python3",
      "display_name": "Python 3"
    },
    "language_info": {
      "name": "python"
    }
  },
  "cells": [
    {
      "cell_type": "markdown",
      "metadata": {
        "id": "view-in-github",
        "colab_type": "text"
      },
      "source": [
        "<a href=\"https://colab.research.google.com/github/masao1112/MLFromScratch/blob/main/%5BOn_going%5DKNN.ipynb\" target=\"_parent\"><img src=\"https://colab.research.google.com/assets/colab-badge.svg\" alt=\"Open In Colab\"/></a>"
      ]
    },
    {
      "cell_type": "code",
      "execution_count": null,
      "metadata": {
        "id": "Y-gc_LZR6zZB"
      },
      "outputs": [],
      "source": [
        "import numpy as np\n",
        "import matplotlib.pyplot as plt\n",
        "import sklearn\n"
      ]
    },
    {
      "cell_type": "code",
      "source": [
        "# Load the train data points\n",
        "# Compute the euclidean/manhattan distance of test data points with train data points\n",
        "# nearest neighbour searching\n",
        "# major voting mechanism"
      ],
      "metadata": {
        "id": "HHQldkpY69IC"
      },
      "execution_count": null,
      "outputs": []
    },
    {
      "cell_type": "code",
      "source": [
        "from sklearn.datasets import load_iris\n",
        "from sklearn.model_selection import train_test_split\n",
        "\n",
        "data = load_iris()\n",
        "X = data.data\n",
        "y = data.target\n",
        "# shuffle the dataset\n",
        "dataset = np.c_[X, y]\n",
        "np.random.shuffle(dataset)\n",
        "shuffled_X = dataset[:, :-1]\n",
        "shuffled_y = dataset[:, -1]\n",
        "# train test split\n",
        "X_train, X_test, y_train, y_test = train_test_split(shuffled_X, shuffled_y, test_size=50)"
      ],
      "metadata": {
        "id": "lCyBOq-z7eGB"
      },
      "execution_count": null,
      "outputs": []
    },
    {
      "cell_type": "code",
      "source": [
        "def calculate_distance(train_set, data_point):\n",
        "  # calculate the distance of test data point wrt all data points in train set\n",
        "  return np.sqrt(np.sum((train_set - data_point)**2, axis=1))"
      ],
      "metadata": {
        "id": "qrb1OAAZxIxE"
      },
      "execution_count": null,
      "outputs": []
    },
    {
      "cell_type": "code",
      "source": [
        "def get_k_nearest_indices(k, distance):\n",
        "  return np.argsort(distance)[:k]"
      ],
      "metadata": {
        "id": "nUPqg44tBZEf"
      },
      "execution_count": null,
      "outputs": []
    },
    {
      "cell_type": "code",
      "source": [
        "get_k_nearest_indices(5, calculate_distance(X_train, X_test[0]))"
      ],
      "metadata": {
        "colab": {
          "base_uri": "https://localhost:8080/"
        },
        "id": "oVwo3IyEKBCY",
        "outputId": "ab44d5f8-da85-407d-c831-bc9307fb4d18"
      },
      "execution_count": null,
      "outputs": [
        {
          "output_type": "execute_result",
          "data": {
            "text/plain": [
              "array([93,  9, 53, 96, 91])"
            ]
          },
          "metadata": {},
          "execution_count": 89
        }
      ]
    },
    {
      "cell_type": "code",
      "source": [
        "def find_nearest_neighbours(k, train_data, train_label, data_point, weights=\"uniform\", eps=1e-5):\n",
        "  # calculate the distance\n",
        "  distance = calculate_distance(train_data, data_point)\n",
        "\n",
        "  # find nearest neighbours\n",
        "  idx = get_k_nearest_indices(k, distance)\n",
        "  nearest_classes = train_label[idx]\n",
        "  unique_labels, counts = np.unique(nearest_classes, return_counts=True) # get classes labels and counts\n",
        "\n",
        "  # Uniform voting\n",
        "  if weights == \"uniform\":\n",
        "    pred = unique_labels[np.argmax(counts)]\n",
        "  # Weighted voting\n",
        "  elif  weights == \"distance\":\n",
        "    # get k nearest distances\n",
        "    nearest_distances = distance[idx]\n",
        "    # compute weighted distances\n",
        "    w = {\n",
        "          label: 1 / ((nearest_distances[label == nearest_classes]).sum()  + eps)\n",
        "          for label in unique_labels\n",
        "        }\n",
        "    pred = max(w, key=w.get)\n",
        "  return pred"
      ],
      "metadata": {
        "id": "bfOfDVAS96_h"
      },
      "execution_count": null,
      "outputs": []
    },
    {
      "cell_type": "markdown",
      "source": [
        "# Apply for al test_data in one go"
      ],
      "metadata": {
        "id": "Vx2uK4pdyCjb"
      }
    },
    {
      "cell_type": "code",
      "source": [
        "def calculate_distances(train_set, test_set):\n",
        "  # calculate the distance of test set points wrt all data points in train set\n",
        "  train_l2_norm = np.sum(train_set**2, axis=1)\n",
        "  test_l2_norm = np.sum(test_set**2, axis=1)\n",
        "  distances = np.sqrt(train_l2_norm.reshape(1, -1) + test_l2_norm.reshape(-1, 1) - 2 * np.dot(test_set, train_set.T))\n",
        "  return distances"
      ],
      "metadata": {
        "id": "hK5eRGflyA9q"
      },
      "execution_count": null,
      "outputs": []
    },
    {
      "cell_type": "code",
      "source": [
        "# params need: unique_labels(y_train)\n",
        "# Compute distances for all data points --> (50, 100)\n",
        "# get k nearest indices --> (50, k)\n",
        "# get k nearest classes --> (50, k)\n",
        "# For uniform prob: get counts from nearest_classes -> idx, counts = np.unique()\n",
        "# For distance based: get k nearest distances -> compute weighted distances wrt to each class in nearest_classes"
      ],
      "metadata": {
        "id": "1rbJCvFpyTzT"
      },
      "execution_count": null,
      "outputs": []
    },
    {
      "cell_type": "code",
      "source": [
        "a = np.zeros((3, 5))\n",
        "a[0][[1, 2]] = 3, 5\n",
        "a"
      ],
      "metadata": {
        "colab": {
          "base_uri": "https://localhost:8080/"
        },
        "id": "ECtH4n5v6srR",
        "outputId": "b4393691-eef9-4e8d-e122-9d1cf1c35972"
      },
      "execution_count": null,
      "outputs": [
        {
          "output_type": "execute_result",
          "data": {
            "text/plain": [
              "array([[0., 3., 5., 0., 0.],\n",
              "       [0., 0., 0., 0., 0.],\n",
              "       [0., 0., 0., 0., 0.]])"
            ]
          },
          "metadata": {},
          "execution_count": 101
        }
      ]
    },
    {
      "cell_type": "code",
      "source": [
        "# apply for all data points in one go\n",
        "def find_nearest_neighbours(k, train_data, train_label, test_data, weights=\"uniform\", eps=1e-5):\n",
        "\n",
        "  # Extract unique labels\n",
        "  unique_labels = np.unique(train_label)\n",
        "\n",
        "  m = test_data.shape[0]\n",
        "  n = unique_labels.shape[0]\n",
        "  # calculate l2 norm(euclidean distance) for each test data point wrt train data\n",
        "  distances = calculate_distances(train_data, test_data) # (50, 100)\n",
        "\n",
        "  # find nearest neighbours\n",
        "  indices = get_k_nearest_indices(k, distances) # (50, k)\n",
        "  nearest_classes = train_label[indices] # (50, k)\n",
        "\n",
        "  # Uniform voting\n",
        "  if weights == \"uniform\":\n",
        "    # label counts holer\n",
        "    label_counts = np.zeros((m, n))\n",
        "    # for each test data point\n",
        "    for i in range(m):\n",
        "      idx, counts = np.unique(nearest_classes[i], return_counts=True) # get classes labels and counts\n",
        "      label_counts[i][idx] = counts # assign counts for correspond label index\n",
        "    pred = unique_labels[np.argmax(label_counts, axis=1)] # (50,)\n",
        "  # Weighted voting\n",
        "  elif  weights == \"distance\":\n",
        "    # get k nearest distances\n",
        "    nearest_distances = distances[idx]\n",
        "    # compute weighted distances\n",
        "    w = {\n",
        "          label: 1 / ((nearest_distances[label == nearest_classes]).sum()  + eps)\n",
        "          for label in unique_labels\n",
        "        }\n",
        "    pred = max(w, key=w.get)\n",
        "  return pred"
      ],
      "metadata": {
        "id": "tpEis1Y0yLgp"
      },
      "execution_count": null,
      "outputs": []
    },
    {
      "cell_type": "code",
      "source": [
        "from sklearn.neighbors import KNeighborsClassifier\n",
        "knn = KNeighborsClassifier(n_neighbors=3, weights=\"uniform\", algorithm=\"ball_tree\")\n",
        "knn.fit(X_train, y_train)\n",
        "start = time.time()\n",
        "knn.score(X_test, y_test)\n",
        "end = time.time()\n",
        "print(f\"KNN sklearn running time: {end - start}\")"
      ],
      "metadata": {
        "id": "ck5DIx5YAZmG",
        "colab": {
          "base_uri": "https://localhost:8080/"
        },
        "outputId": "a7c26d8c-a6ba-46c9-f08c-c9229f98a2ce"
      },
      "execution_count": null,
      "outputs": [
        {
          "output_type": "stream",
          "name": "stdout",
          "text": [
            "KNN sklearn running time: 0.01259160041809082\n"
          ]
        }
      ]
    },
    {
      "cell_type": "code",
      "source": [
        "import time\n",
        "\n",
        "class KNNClassifier:\n",
        "  def __init__(self, k, weights=\"uniform\"):\n",
        "    self.k = k\n",
        "    self.weights = weights\n",
        "\n",
        "  def fit(self, X_train, y_train):\n",
        "    self.X_train = X_train\n",
        "    self.y_train = y_train\n",
        "\n",
        "  def predict(self, X_test):\n",
        "    y_pred = []\n",
        "    start = time.time()\n",
        "    for i in range(len(X_test)):\n",
        "      pred = find_nearest_neighbours(self.k, self.X_train, self.y_train, X_test[i], weights=self.weights)\n",
        "      y_pred.append(pred)\n",
        "    end = time.time()\n",
        "    print(f'Running Tinme: {end - start}')\n",
        "\n",
        "    return y_pred\n",
        "\n",
        "  def score(self, X_test, y_test):\n",
        "    y_pred = self.predict(X_test)\n",
        "    return (y_pred == y_test).mean()"
      ],
      "metadata": {
        "id": "ti0B8phG-vAy"
      },
      "execution_count": null,
      "outputs": []
    },
    {
      "cell_type": "code",
      "source": [
        "classifier = KNNClassifier(100, weights=\"distance\")\n",
        "classifier.fit(X_train, y_train)\n",
        "start = time.time()\n",
        "classifier.score(X_test, y_test)\n",
        "end = time.time()\n",
        "print(f\"My KNN running time: {end - start}\")"
      ],
      "metadata": {
        "colab": {
          "base_uri": "https://localhost:8080/"
        },
        "id": "No7w73cDJILj",
        "outputId": "af197354-46c9-4270-c805-894273f47548"
      },
      "execution_count": null,
      "outputs": [
        {
          "output_type": "stream",
          "name": "stdout",
          "text": [
            "Running Tinme: 0.007066249847412109\n",
            "My KNN running time: 0.007790088653564453\n"
          ]
        }
      ]
    },
    {
      "cell_type": "code",
      "source": [
        "import time\n",
        "from scipy.spatial.distance import cdist\n",
        "\n",
        "t1 = time.time()\n",
        "d1 = cdist(X_train, X_test)\n",
        "t2 = time.time()\n",
        "print(f\"scipy calculate_distances running time: {t2 - t1}\")\n",
        "\n",
        "t1 = time.time()\n",
        "d2 = classifier.predict(X_test)\n",
        "t2 = time.time()\n",
        "print(f\"My calculate_distances running time: {t2 - t1}\")\n"
      ],
      "metadata": {
        "colab": {
          "base_uri": "https://localhost:8080/"
        },
        "id": "Bl7lJQF_oWO9",
        "outputId": "8bd85ed7-ae50-48e8-9eb7-a8cdc809d65b"
      },
      "execution_count": null,
      "outputs": [
        {
          "output_type": "stream",
          "name": "stdout",
          "text": [
            "scipy calculate_distances running time: 0.0009734630584716797\n",
            "Running Tinme: 0.011380195617675781\n",
            "My calculate_distances running time: 0.0116729736328125\n"
          ]
        }
      ]
    },
    {
      "cell_type": "code",
      "source": [
        "def euclidean_dist(train, test):\n",
        "  train_sq = np.sum(train*train, 1)\n",
        "  test_sq = np.sum(test*test, 1)\n",
        "\n",
        "  return np.sqrt(train_sq.reshape(-1, 1) + test_sq.reshape(1, -1) - 2 * np.dot(train, test.T))"
      ],
      "metadata": {
        "id": "FZSi6Gtpp6hK"
      },
      "execution_count": null,
      "outputs": []
    },
    {
      "cell_type": "code",
      "source": [
        "t1 = time.time()\n",
        "d2 = euclidean_dist(X_train, X_test)\n",
        "print(f\"running time: {time.time() - t1}\")"
      ],
      "metadata": {
        "colab": {
          "base_uri": "https://localhost:8080/"
        },
        "id": "xsIiLrKhwAnt",
        "outputId": "cc2c0c5a-2541-4fd2-a6d0-bb67943620a3"
      },
      "execution_count": null,
      "outputs": [
        {
          "output_type": "stream",
          "name": "stdout",
          "text": [
            "running time: 0.0010199546813964844\n"
          ]
        }
      ]
    },
    {
      "cell_type": "code",
      "source": [],
      "metadata": {
        "id": "lTI268CDwGXN"
      },
      "execution_count": null,
      "outputs": []
    }
  ]
}